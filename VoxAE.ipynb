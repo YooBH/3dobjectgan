{
 "cells": [
  {
   "cell_type": "code",
   "execution_count": 8,
   "metadata": {},
   "outputs": [
    {
     "name": "stdout",
     "output_type": "stream",
     "text": [
      "Model: \"model_9\"\n",
      "_________________________________________________________________\n",
      " Layer (type)                Output Shape              Param #   \n",
      "=================================================================\n",
      " input_15 (InputLayer)       [(None, 32, 32, 32, 1)]   0         \n",
      "                                                                 \n",
      " flatten_7 (Flatten)         (None, 32768)             0         \n",
      "                                                                 \n",
      " dense_14 (Dense)            (None, 64)                2097216   \n",
      "                                                                 \n",
      " model_8 (Functional)        (None, 32, 32, 32, 1)     2134080   \n",
      "                                                                 \n",
      "=================================================================\n",
      "Total params: 4,231,296\n",
      "Trainable params: 4,231,296\n",
      "Non-trainable params: 0\n",
      "_________________________________________________________________\n"
     ]
    }
   ],
   "source": [
    "import tensorflow as tf\n",
    "\n",
    "# 인코더 모델 정의\n",
    "def encoder(input_shape):\n",
    "    input_layer = tf.keras.layers.Input(shape=input_shape)\n",
    "    x = tf.keras.layers.Flatten()(input_layer)\n",
    "    encoded = tf.keras.layers.Dense(64, activation='relu')(x)\n",
    "    return tf.keras.models.Model(input_layer, encoded)\n",
    "\n",
    "# 디코더 모델 정의\n",
    "def decoder(encoded_shape, output_shape):\n",
    "    input_layer = tf.keras.layers.Input(shape=encoded_shape)\n",
    "    x = tf.keras.layers.Dense(64, activation='relu')(input_layer)\n",
    "    decoded = tf.keras.layers.Dense(tf.reduce_prod(output_shape), activation='sigmoid')(x)\n",
    "    output_layer = tf.keras.layers.Reshape(output_shape)(decoded)\n",
    "    return tf.keras.models.Model(input_layer, output_layer)\n",
    "\n",
    "# 인코더 모델과 디코더 모델 연결\n",
    "input_shape = (32, 32, 32, 1)\n",
    "encoded_shape = (64,)\n",
    "encoder_model = encoder(input_shape)\n",
    "decoder_model = decoder(encoded_shape, input_shape)\n",
    "autoencoder_model = tf.keras.models.Model(encoder_model.input, decoder_model(encoder_model.output))\n",
    "\n",
    "# 오토인코더 모델 컴파일\n",
    "autoencoder_model.compile(optimizer='adam', loss='mse')\n",
    "\n",
    "# 모델 요약 정보 출력\n",
    "autoencoder_model.summary()\n"
   ]
  },
  {
   "cell_type": "code",
   "execution_count": null,
   "metadata": {},
   "outputs": [],
   "source": [
    "import h5py\n",
    "import numpy as np\n",
    "from sklearn.model_selection import train_test_split\n",
    "\n",
    "# 데이터 불러오기\n",
    "with h5py.File('./ModelNet40Vox32_airplane.h5', 'r') as f:\n",
    "    data = f['data'][:]\n",
    "\n",
    "print(\"Data shape:\", data.shape)\n",
    "\n",
    "# 훈련 데이터와 시험 데이터로 나누기\n",
    "train_data, test_data = train_test_split(data, test_size=0.2, random_state=42)\n",
    "\n",
    "print(\"Train data shape:\", train_data.shape)\n",
    "print(\"Test data shape:\", test_data.shape)"
   ]
  },
  {
   "cell_type": "code",
   "execution_count": null,
   "metadata": {},
   "outputs": [],
   "source": [
    "# 오토인코더 모델 훈련\n",
    "autoencoder_model.fit(train_data, train_data, epochs=10, batch_size=32)"
   ]
  },
  {
   "cell_type": "code",
   "execution_count": null,
   "metadata": {},
   "outputs": [],
   "source": [
    "# 시험 데이터에 대한 재구성 결과 생성\n",
    "reconstructed_data = autoencoder_model.predict(test_data)"
   ]
  },
  {
   "cell_type": "code",
   "execution_count": null,
   "metadata": {},
   "outputs": [],
   "source": [
    "import matplotlib.pyplot as plt\n",
    "\n",
    "# 재구성 결과 시각화\n",
    "num_samples = 10  # 시각화할 샘플의 수\n",
    "fig, axes = plt.subplots(nrows=num_samples, ncols=2, figsize=(10, 20))\n",
    "for i in range(num_samples):\n",
    "    axes[i, 0].imshow(test_data[i, ..., 0], cmap='gray')\n",
    "    axes[i, 0].axis('off')\n",
    "    axes[i, 0].set_title('Input')\n",
    "\n",
    "    axes[i, 1].imshow(reconstructed_data[i, ..., 0], cmap='gray')\n",
    "    axes[i, 1].axis('off')\n",
    "    axes[i, 1].set_title('Reconstructed')\n",
    "\n",
    "plt.tight_layout()\n",
    "plt.show()\n"
   ]
  },
  {
   "cell_type": "code",
   "execution_count": null,
   "metadata": {},
   "outputs": [],
   "source": [
    "# 재구성 오차 계산\n",
    "reconstruction_error = np.mean(np.abs(test_data - reconstructed_data))\n",
    "\n",
    "# 재구성 오차 출력\n",
    "print(f\"Reconstruction Error: {reconstruction_error}\")"
   ]
  }
 ],
 "metadata": {
  "kernelspec": {
   "display_name": "base",
   "language": "python",
   "name": "python3"
  },
  "language_info": {
   "codemirror_mode": {
    "name": "ipython",
    "version": 3
   },
   "file_extension": ".py",
   "mimetype": "text/x-python",
   "name": "python",
   "nbconvert_exporter": "python",
   "pygments_lexer": "ipython3",
   "version": "3.10.9"
  },
  "orig_nbformat": 4
 },
 "nbformat": 4,
 "nbformat_minor": 2
}
